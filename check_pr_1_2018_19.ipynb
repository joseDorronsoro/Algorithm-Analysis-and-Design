{
 "cells": [
  {
   "cell_type": "code",
   "execution_count": 1,
   "metadata": {},
   "outputs": [
    {
     "data": {
      "text/html": [
       "\n",
       "<script>code_show=true; \n",
       "\n",
       "function code_toggle() {\n",
       "    if (code_show){\n",
       "    $('div.input').hide();\n",
       "    } else {\n",
       "    $('div.input').show();\n",
       "    }\n",
       "    code_show = !code_show\n",
       "} \n",
       "\n",
       "$( document ).ready(code_toggle);\n",
       "</script>\n",
       "<form action=\"javascript:code_toggle()\"><input type=\"submit\" value=\"Click here to toggle on/off the raw code.\"></form>\n"
      ],
      "text/plain": [
       "<IPython.core.display.HTML object>"
      ]
     },
     "execution_count": 1,
     "metadata": {},
     "output_type": "execute_result"
    }
   ],
   "source": [
    "from IPython.display import HTML\n",
    "\n",
    "HTML('''\n",
    "<script>code_show=true; \n",
    "\n",
    "function code_toggle() {\n",
    "    if (code_show){\n",
    "    $('div.input').hide();\n",
    "    } else {\n",
    "    $('div.input').show();\n",
    "    }\n",
    "    code_show = !code_show\n",
    "} \n",
    "\n",
    "$( document ).ready(code_toggle);\n",
    "</script>\n",
    "<form action=\"javascript:code_toggle()\"><input type=\"submit\" value=\"Click here to toggle on/off the raw code.\"></form>\n",
    "''')"
   ]
  },
  {
   "cell_type": "markdown",
   "metadata": {},
   "source": [
    "# Comprobación de la práctica 1"
   ]
  },
  {
   "cell_type": "code",
   "execution_count": 2,
   "metadata": {},
   "outputs": [
    {
     "name": "stdout",
     "output_type": "stream",
     "text": [
      "D:\\GoogleDriveBck\\Cursos\\DAA\\practicas\\2018_2019\n"
     ]
    }
   ],
   "source": [
    "%matplotlib inline\n",
    "%load_ext autoreload\n",
    "%autoreload 2\n",
    "\n",
    "%cd .."
   ]
  },
  {
   "cell_type": "code",
   "execution_count": 3,
   "metadata": {},
   "outputs": [
    {
     "name": "stdout",
     "output_type": "stream",
     "text": [
      "working on windows 10 ...\n"
     ]
    }
   ],
   "source": [
    "import string, random\n",
    "import numpy as np\n",
    "import pandas as pd\n",
    "import sys\n",
    "\n",
    "import networkx as nx\n",
    "\n",
    "from sklearn.linear_model import LinearRegression\n",
    "\n",
    "sys.path.append(r'D:\\GoogleDriveBck\\Cursos\\DAA\\practicas\\2018_2019\\python')\n",
    "import grafos_2018 as gr"
   ]
  },
  {
   "cell_type": "markdown",
   "metadata": {},
   "source": [
    "# Basic Graph Functions"
   ]
  },
  {
   "cell_type": "code",
   "execution_count": 4,
   "metadata": {},
   "outputs": [
    {
     "name": "stdout",
     "output_type": "stream",
     "text": [
      "\n",
      "check basic graph functions ....................\n",
      "\n",
      "comprobamos la generación de grafos aleatorios ..........\n",
      "\n",
      "\testimated sp_f  0.38 sobre 10 graphs with 10 n_nodes and spars. fact.  0.37\n"
     ]
    }
   ],
   "source": [
    "n_grafos = 10\n",
    "n_nodes = 10 \n",
    "sparse_factor = 0.37\n",
    "\n",
    "print(\"\\ncheck basic graph functions ....................\")\n",
    "print(\"\\ncomprobamos la generación de grafos aleatorios ..........\")\n",
    "est_sp_f = gr.check_sparse_factor(n_grafos=n_grafos, n_nodes=n_nodes, sparse_factor=sparse_factor)\n",
    "print(\"\\n\\testimated sp_f %5.2f sobre %d graphs with %d n_nodes and spars. fact. %5.2f\" %  \n",
    "      (est_sp_f, n_grafos, n_nodes, sparse_factor) )"
   ]
  },
  {
   "cell_type": "markdown",
   "metadata": {},
   "source": [
    "# Writing to and Reading fromTGF Files"
   ]
  },
  {
   "cell_type": "code",
   "execution_count": 5,
   "metadata": {},
   "outputs": [
    {
     "name": "stdout",
     "output_type": "stream",
     "text": [
      "\n",
      "generamos grafo TFG ..........\n",
      "\n",
      "comprobamos las funciones de conversión ..........\n",
      "\n",
      "grafo inicial\n",
      " [[ 0.  1.  9.  5.  5.]\n",
      " [ 9.  0. inf  2.  7.]\n",
      " [ 8. inf  0.  2. inf]\n",
      " [inf  1.  4.  0.  8.]\n",
      " [inf  3.  6.  7.  0.]]\n",
      "\n",
      "from m to d\n",
      " {0: {1: 1.0, 2: 9.0, 3: 5.0, 4: 5.0}, 1: {0: 9.0, 3: 2.0, 4: 7.0}, 2: {0: 8.0, 3: 2.0}, 3: {1: 1.0, 2: 4.0, 4: 8.0}, 4: {1: 3.0, 2: 6.0, 3: 7.0}}\n",
      "\n",
      "from d to m\n",
      " [[ 0.  1.  9.  5.  5.]\n",
      " [ 9.  0. inf  2.  7.]\n",
      " [ 8. inf  0.  2. inf]\n",
      " [inf  1.  4.  0.  8.]\n",
      " [inf  3.  6.  7.  0.]]\n",
      "\n",
      "guardamos grafo en archivo ..........\n",
      "\n",
      "graph_from_dict:\n",
      "\n",
      "( 0 1 ) 1.0\n",
      "( 0 2 ) 9.0\n",
      "( 0 3 ) 5.0\n",
      "( 0 4 ) 5.0\n",
      "( 1 0 ) 9.0\n",
      "( 1 3 ) 2.0\n",
      "( 1 4 ) 7.0\n",
      "( 2 0 ) 8.0\n",
      "( 2 3 ) 2.0\n",
      "( 3 1 ) 1.0\n",
      "( 3 2 ) 4.0\n",
      "( 3 4 ) 8.0\n",
      "( 4 1 ) 3.0\n",
      "( 4 2 ) 6.0\n",
      "( 4 3 ) 7.0\n",
      "\n",
      "y leemos grafo de archivo ..........\n",
      "\n",
      "graph_from_dict:\n",
      "\n",
      "( 0 1 ) 1.0\n",
      "( 0 2 ) 9.0\n",
      "( 0 3 ) 5.0\n",
      "( 0 4 ) 5.0\n",
      "( 1 0 ) 9.0\n",
      "( 1 3 ) 2.0\n",
      "( 1 4 ) 7.0\n",
      "( 2 0 ) 8.0\n",
      "( 2 3 ) 2.0\n",
      "( 3 1 ) 1.0\n",
      "( 3 2 ) 4.0\n",
      "( 3 4 ) 8.0\n",
      "( 4 1 ) 3.0\n",
      "( 4 2 ) 6.0\n",
      "( 4 3 ) 7.0\n"
     ]
    }
   ],
   "source": [
    "print(\"\\ngeneramos grafo TFG ..........\")\n",
    "m_g = gr.rand_matr_pos_graph(n_nodes=5, sparse_factor=0.75, max_weight=10.)    \n",
    "\n",
    "print(\"\\ncomprobamos las funciones de conversión ..........\")\n",
    "print(\"\\ngrafo inicial\\n\", m_g)\n",
    "\n",
    "d_g = gr.m_g_2_d_g(m_g)\n",
    "print(\"\\nfrom m to d\\n\", d_g)\n",
    "\n",
    "m_g2 = gr.d_g_2_m_g(d_g)\n",
    "print(\"\\nfrom d to m\\n\", m_g2)\n",
    "\n",
    "print(\"\\nguardamos grafo en archivo ..........\")\n",
    "gr.print_d_g(d_g)\n",
    "\n",
    "f_name = 'my_graph.tfg'\n",
    "gr.d_g_2_TGF(d_g, f_name)\n",
    "\n",
    "print(\"\\ny leemos grafo de archivo ..........\")\n",
    "d_g2 = gr.TGF_2_d_g(f_name)\n",
    "gr.print_d_g(d_g2)"
   ]
  },
  {
   "cell_type": "markdown",
   "metadata": {},
   "source": [
    "# Single Source Dijkstra"
   ]
  },
  {
   "cell_type": "code",
   "execution_count": 6,
   "metadata": {},
   "outputs": [
    {
     "name": "stdout",
     "output_type": "stream",
     "text": [
      "\n",
      "single source Dijkstra ....................\n",
      "\n",
      "comprobamos la corrección de Dijkstra ..........\n",
      "\tgeneramos_grafo_aleatorio ..........\n",
      "\n",
      "\tdistancias from 0:\n",
      " {0: 0, 1: 8.0, 2: 9.0, 3: 8.0, 4: 9.0, 5: 7.0, 6: 7.0, 7: 2.0, 8: 6.0, 9: 3.0}\n",
      "\n",
      "\tdistancias_nx from 0:\n",
      " {0: 0, 7: 2.0, 9: 3.0, 8: 6.0, 5: 7.0, 6: 7.0, 1: 8.0, 3: 8.0, 4: 9.0, 2: 9.0}\n",
      "\n",
      "\tdistancias from 1:\n",
      " {0: 2.0, 1: 0, 2: 6.0, 3: 3.0, 4: 4.0, 5: 1.0, 6: 1.0, 7: 3.0, 8: 3.0, 9: 3.0}\n",
      "\n",
      "\tdistancias_nx from 1:\n",
      " {1: 0, 5: 1.0, 6: 1.0, 0: 2.0, 3: 3.0, 9: 3.0, 7: 3.0, 8: 3.0, 4: 4.0, 2: 6.0}\n",
      "\n",
      "\tdistancias from 2:\n",
      " {0: 1.0, 1: 3.0, 2: 0, 3: 3.0, 4: 3.0, 5: 0.0, 6: 0.0, 7: 0.0, 8: 2.0, 9: 1.0}\n",
      "\n",
      "\tdistancias_nx from 2:\n",
      " {2: 0, 5: 0.0, 7: 0.0, 6: 0.0, 9: 1.0, 0: 1.0, 8: 2.0, 3: 3.0, 4: 3.0, 1: 3.0}\n",
      "\n",
      "\tdistancias from 3:\n",
      " {0: 1.0, 1: 8.0, 2: 7.0, 3: 0, 4: 4.0, 5: 6.0, 6: 6.0, 7: 3.0, 8: 7.0, 9: 4.0}\n",
      "\n",
      "\tdistancias_nx from 3:\n",
      " {3: 0, 0: 1.0, 7: 3.0, 4: 4.0, 9: 4.0, 5: 6.0, 6: 6.0, 2: 7.0, 8: 7.0, 1: 8.0}\n",
      "\n",
      "\tdistancias from 4:\n",
      " {0: 2.0, 1: 5.0, 2: 7.0, 3: 2.0, 4: 0, 5: 2.0, 6: 2.0, 7: 4.0, 8: 4.0, 9: 4.0}\n",
      "\n",
      "\tdistancias_nx from 4:\n",
      " {4: 0, 0: 2.0, 3: 2.0, 5: 2.0, 6: 2.0, 7: 4.0, 9: 4.0, 8: 4.0, 1: 5.0, 2: 7.0}\n",
      "\n",
      "\tdistancias from 5:\n",
      " {0: 1.0, 1: 3.0, 2: 5.0, 3: 5.0, 4: 3.0, 5: 0, 6: 0.0, 7: 2.0, 8: 2.0, 9: 2.0}\n",
      "\n",
      "\tdistancias_nx from 5:\n",
      " {5: 0, 6: 0.0, 0: 1.0, 9: 2.0, 7: 2.0, 8: 2.0, 1: 3.0, 4: 3.0, 2: 5.0, 3: 5.0}\n",
      "\n",
      "\tdistancias from 6:\n",
      " {0: 1.0, 1: 5.0, 2: 5.0, 3: 5.0, 4: 3.0, 5: 5.0, 6: 0, 7: 2.0, 8: 2.0, 9: 2.0}\n",
      "\n",
      "\tdistancias_nx from 6:\n",
      " {6: 0, 0: 1.0, 7: 2.0, 8: 2.0, 9: 2.0, 4: 3.0, 1: 5.0, 2: 5.0, 3: 5.0, 5: 5.0}\n",
      "\n",
      "\tdistancias from 7:\n",
      " {0: 6.0, 1: 7.0, 2: 7.0, 3: 6.0, 4: 7.0, 5: 5.0, 6: 5.0, 7: 0, 8: 4.0, 9: 1.0}\n",
      "\n",
      "\tdistancias_nx from 7:\n",
      " {7: 0, 9: 1.0, 8: 4.0, 5: 5.0, 6: 5.0, 3: 6.0, 0: 6.0, 4: 7.0, 1: 7.0, 2: 7.0}\n",
      "\n",
      "\tdistancias from 8:\n",
      " {0: 2.0, 1: 3.0, 2: 3.0, 3: 5.0, 4: 4.0, 5: 3.0, 6: 1.0, 7: 3.0, 8: 0, 9: 0.0}\n",
      "\n",
      "\tdistancias_nx from 8:\n",
      " {8: 0, 9: 0.0, 6: 1.0, 0: 2.0, 1: 3.0, 2: 3.0, 7: 3.0, 5: 3.0, 4: 4.0, 3: 5.0}\n",
      "\n",
      "\tdistancias from 9:\n",
      " {0: 5.0, 1: 6.0, 2: 6.0, 3: 8.0, 4: 7.0, 5: 6.0, 6: 4.0, 7: 3.0, 8: 3.0, 9: 0}\n",
      "\n",
      "\tdistancias_nx from 9:\n",
      " {9: 0, 7: 3.0, 8: 3.0, 6: 4.0, 0: 5.0, 1: 6.0, 2: 6.0, 5: 6.0, 4: 7.0, 3: 8.0}\n"
     ]
    }
   ],
   "source": [
    "print(\"\\nsingle source Dijkstra ....................\")\n",
    "print(\"\\ncomprobamos la corrección de Dijkstra ..........\")\n",
    "\n",
    "print(\"\\tgeneramos_grafo_aleatorio ..........\")\n",
    "m_g = gr.rand_matr_pos_graph(n_nodes=10, sparse_factor=0.75, max_weight=10.)    \n",
    "d_g = gr.m_g_2_d_g(m_g)\n",
    "nx_g = gr.d_g_2_nx_g(d_g)\n",
    "\n",
    "l_difs = []\n",
    "for u in d_g.keys():\n",
    "    #print(\"\\tcalculamos d y p mediante nuestro Dijkstra ..........\")\n",
    "    d, p = gr.dijkstra_d(d_g, u)\n",
    "    \n",
    "    #print(\"\\ty mediante networkx ..........\")\n",
    "    d_n, p_n = nx.single_source_dijkstra(nx_g, u, weight='weight')\n",
    "    \n",
    "    print( \"\\n\\tdistancias from %d:\\n\" % u,  d)\n",
    "    print( \"\\n\\tdistancias_nx from %d:\\n\" % u,  d_n)\n",
    "    \n",
    "    df   = pd.DataFrame.from_dict(d,   orient='index', columns=['dijks']).sort_index()\n",
    "    df_n = pd.DataFrame.from_dict(d_n, orient='index', columns=['dijks']).sort_index()\n",
    "    \n",
    "    #l_difs: diferencias entre distancias Dijkstra y distancias con nx\n",
    "    l_difs.append(abs(df['dijks'].values - df_n['dijks'].values).max())"
   ]
  },
  {
   "cell_type": "code",
   "execution_count": 7,
   "metadata": {},
   "outputs": [
    {
     "name": "stdout",
     "output_type": "stream",
     "text": [
      "\n",
      "comprobamos que todas las distancias son iguales ..........\n",
      "dif_dist 0.0\n"
     ]
    }
   ],
   "source": [
    "print(\"\\ncomprobamos que todas las distancias son iguales ..........\")\n",
    "print(\"dif_dist\", abs(np.array(l_difs)).max())"
   ]
  },
  {
   "cell_type": "code",
   "execution_count": 8,
   "metadata": {},
   "outputs": [
    {
     "data": {
      "text/plain": [
       "{0: [0],\n",
       " 1: [0, 1],\n",
       " 2: [0, 2],\n",
       " 3: [0, 3],\n",
       " 4: [0, 1, 4],\n",
       " 5: [0, 2, 5],\n",
       " 6: [0, 3, 6]}"
      ]
     },
     "execution_count": 8,
     "metadata": {},
     "output_type": "execute_result"
    }
   ],
   "source": [
    "mm = np.array([\n",
    "[0, 1., 1., 1., np.inf, np.inf, np.inf],\n",
    "[np.inf, 0., np.inf, 1., 1., np.inf, np.inf],\n",
    "[np.inf, np.inf, 0., np.inf, np.inf, 1., np.inf],\n",
    "[np.inf, np.inf, 1., 0., np.inf, 1., 1.],\n",
    "[np.inf, np.inf, np.inf, 1., 0., np.inf, 1.],\n",
    "[np.inf, np.inf, np.inf, np.inf, np.inf, 0., 1.],\n",
    "[np.inf, np.inf, np.inf, np.inf, np.inf, np.inf, 0.]    \n",
    "])\n",
    "\n",
    "dd = gr.m_g_2_d_g(mm)\n",
    "d, p = gr.dijkstra_d(dd, 0)\n",
    "gr.min_paths(p)"
   ]
  },
  {
   "cell_type": "markdown",
   "metadata": {},
   "source": [
    "# Time Plotting and Fitting"
   ]
  },
  {
   "cell_type": "code",
   "execution_count": 9,
   "metadata": {},
   "outputs": [],
   "source": [
    "n_graphs = 20\n",
    "n_nodes_ini = 10 \n",
    "n_nodes_fin = 50\n",
    "step = 5\n",
    "sparse_factor = 0.8"
   ]
  },
  {
   "cell_type": "code",
   "execution_count": 10,
   "metadata": {},
   "outputs": [
    {
     "name": "stdout",
     "output_type": "stream",
     "text": [
      "\n",
      "ajuste de tiempos dijkstra ....................\n",
      "timing Dijkstra on dict ...\n",
      "\n",
      "\ttiempo medio para 10 nodos: 0.0030\n",
      "\ttiempo medio para 15 nodos: 0.0060\n",
      "\ttiempo medio para 20 nodos: 0.0050\n",
      "\ttiempo medio para 25 nodos: 0.0085\n",
      "\ttiempo medio para 30 nodos: 0.0100\n",
      "\ttiempo medio para 35 nodos: 0.0171\n",
      "\ttiempo medio para 40 nodos: 0.0068\n",
      "\ttiempo medio para 45 nodos: 0.0119\n",
      "\ttiempo medio para 50 nodos: 0.0250\n"
     ]
    },
    {
     "data": {
      "image/png": "[encoded data removed]",
      "text/plain": [
       "<matplotlib.figure.Figure at 0x2b0e1dd3da0>"
      ]
     },
     "metadata": {},
     "output_type": "display_data"
    },
    {
     "name": "stdout",
     "output_type": "stream",
     "text": [
      "timing Dijkstra on dict_nx ...\n",
      "\n",
      "\ttiempo medio para 10 nodos: 0.0001\n",
      "\ttiempo medio para 15 nodos: 0.0003\n",
      "\ttiempo medio para 20 nodos: 0.0005\n",
      "\ttiempo medio para 25 nodos: 0.0041\n",
      "\ttiempo medio para 30 nodos: 0.0040\n",
      "\ttiempo medio para 35 nodos: 0.0031\n",
      "\ttiempo medio para 40 nodos: 0.0029\n",
      "\ttiempo medio para 45 nodos: 0.0026\n",
      "\ttiempo medio para 50 nodos: 0.0037\n"
     ]
    },
    {
     "data": {
      "image/png": "[encoded data removed]",
      "text/plain": [
       "<matplotlib.figure.Figure at 0x2b0dcd1b400>"
      ]
     },
     "metadata": {},
     "output_type": "display_data"
    }
   ],
   "source": [
    "print(\"\\najuste de tiempos dijkstra ....................\")\n",
    "\n",
    "l_t = gr.time_dijkstra_d(n_graphs, n_nodes_ini, n_nodes_fin, step, sparse_factor)\n",
    "gr.fit_plot(l_t, gr.n2_log_n, size_ini=n_nodes_ini, size_fin=n_nodes_fin, step=step)    \n",
    "\n",
    "l_t_nx = gr.time_dijkstra_nx(n_graphs, n_nodes_ini, n_nodes_fin, step, sparse_factor)\n",
    "gr.fit_plot(l_t_nx, gr.n2_log_n, size_ini=n_nodes_ini, size_fin=n_nodes_fin, step=step)    "
   ]
  }
 ],
 "metadata": {
  "kernelspec": {
   "display_name": "Python 3",
   "language": "python",
   "name": "python3"
  },
  "language_info": {
   "codemirror_mode": {
    "name": "ipython",
    "version": 3
   },
   "file_extension": ".py",
   "mimetype": "text/x-python",
   "name": "python",
   "nbconvert_exporter": "python",
   "pygments_lexer": "ipython3",
   "version": "3.6.3"
  }
 },
 "nbformat": 4,
 "nbformat_minor": 2
}
